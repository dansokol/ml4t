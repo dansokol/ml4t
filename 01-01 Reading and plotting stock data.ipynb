{
 "cells": [
  {
   "cell_type": "markdown",
   "metadata": {},
   "source": [
    "# 01-01 Reading and plotting stock data"
   ]
  },
  {
   "cell_type": "code",
   "execution_count": 1,
   "metadata": {
    "collapsed": true
   },
   "outputs": [],
   "source": [
    "import pandas as pd\n",
    "# from DataHelper import DataHelper"
   ]
  },
  {
   "cell_type": "code",
   "execution_count": 2,
   "metadata": {
    "collapsed": true
   },
   "outputs": [],
   "source": [
    "df = pd.read_csv(\"data/aapl.csv\")"
   ]
  },
  {
   "cell_type": "code",
   "execution_count": 3,
   "metadata": {
    "collapsed": false
   },
   "outputs": [
    {
     "data": {
      "text/html": [
       "<div>\n",
       "<table border=\"1\" class=\"dataframe\">\n",
       "  <thead>\n",
       "    <tr style=\"text-align: right;\">\n",
       "      <th></th>\n",
       "      <th>Date</th>\n",
       "      <th>Open</th>\n",
       "      <th>High</th>\n",
       "      <th>Low</th>\n",
       "      <th>Close</th>\n",
       "      <th>Volume</th>\n",
       "      <th>Adj Close</th>\n",
       "    </tr>\n",
       "  </thead>\n",
       "  <tbody>\n",
       "    <tr>\n",
       "      <th>10</th>\n",
       "      <td>2012-08-28</td>\n",
       "      <td>674.98</td>\n",
       "      <td>676.10</td>\n",
       "      <td>670.67</td>\n",
       "      <td>674.80</td>\n",
       "      <td>9550600</td>\n",
       "      <td>674.80</td>\n",
       "    </tr>\n",
       "    <tr>\n",
       "      <th>11</th>\n",
       "      <td>2012-08-27</td>\n",
       "      <td>679.99</td>\n",
       "      <td>680.87</td>\n",
       "      <td>673.54</td>\n",
       "      <td>675.68</td>\n",
       "      <td>15250300</td>\n",
       "      <td>675.68</td>\n",
       "    </tr>\n",
       "    <tr>\n",
       "      <th>12</th>\n",
       "      <td>2012-08-24</td>\n",
       "      <td>659.51</td>\n",
       "      <td>669.48</td>\n",
       "      <td>655.55</td>\n",
       "      <td>663.22</td>\n",
       "      <td>15619300</td>\n",
       "      <td>663.22</td>\n",
       "    </tr>\n",
       "    <tr>\n",
       "      <th>13</th>\n",
       "      <td>2012-08-23</td>\n",
       "      <td>666.11</td>\n",
       "      <td>669.90</td>\n",
       "      <td>661.15</td>\n",
       "      <td>662.63</td>\n",
       "      <td>15004600</td>\n",
       "      <td>662.63</td>\n",
       "    </tr>\n",
       "    <tr>\n",
       "      <th>14</th>\n",
       "      <td>2012-08-22</td>\n",
       "      <td>654.42</td>\n",
       "      <td>669.00</td>\n",
       "      <td>648.11</td>\n",
       "      <td>668.87</td>\n",
       "      <td>20190100</td>\n",
       "      <td>668.87</td>\n",
       "    </tr>\n",
       "    <tr>\n",
       "      <th>15</th>\n",
       "      <td>2012-08-21</td>\n",
       "      <td>670.82</td>\n",
       "      <td>674.88</td>\n",
       "      <td>650.33</td>\n",
       "      <td>656.06</td>\n",
       "      <td>29025700</td>\n",
       "      <td>656.06</td>\n",
       "    </tr>\n",
       "    <tr>\n",
       "      <th>16</th>\n",
       "      <td>2012-08-20</td>\n",
       "      <td>650.01</td>\n",
       "      <td>665.15</td>\n",
       "      <td>649.90</td>\n",
       "      <td>665.15</td>\n",
       "      <td>21906600</td>\n",
       "      <td>665.15</td>\n",
       "    </tr>\n",
       "    <tr>\n",
       "      <th>17</th>\n",
       "      <td>2012-08-17</td>\n",
       "      <td>640.00</td>\n",
       "      <td>648.19</td>\n",
       "      <td>638.81</td>\n",
       "      <td>648.11</td>\n",
       "      <td>15812900</td>\n",
       "      <td>648.11</td>\n",
       "    </tr>\n",
       "    <tr>\n",
       "      <th>18</th>\n",
       "      <td>2012-08-16</td>\n",
       "      <td>631.21</td>\n",
       "      <td>636.76</td>\n",
       "      <td>630.50</td>\n",
       "      <td>636.34</td>\n",
       "      <td>9090500</td>\n",
       "      <td>636.34</td>\n",
       "    </tr>\n",
       "    <tr>\n",
       "      <th>19</th>\n",
       "      <td>2012-08-15</td>\n",
       "      <td>631.30</td>\n",
       "      <td>634.00</td>\n",
       "      <td>627.75</td>\n",
       "      <td>630.83</td>\n",
       "      <td>9190800</td>\n",
       "      <td>630.83</td>\n",
       "    </tr>\n",
       "    <tr>\n",
       "      <th>20</th>\n",
       "      <td>2012-08-14</td>\n",
       "      <td>631.87</td>\n",
       "      <td>638.61</td>\n",
       "      <td>630.21</td>\n",
       "      <td>631.69</td>\n",
       "      <td>12148900</td>\n",
       "      <td>631.69</td>\n",
       "    </tr>\n",
       "  </tbody>\n",
       "</table>\n",
       "</div>"
      ],
      "text/plain": [
       "          Date    Open    High     Low   Close    Volume  Adj Close\n",
       "10  2012-08-28  674.98  676.10  670.67  674.80   9550600     674.80\n",
       "11  2012-08-27  679.99  680.87  673.54  675.68  15250300     675.68\n",
       "12  2012-08-24  659.51  669.48  655.55  663.22  15619300     663.22\n",
       "13  2012-08-23  666.11  669.90  661.15  662.63  15004600     662.63\n",
       "14  2012-08-22  654.42  669.00  648.11  668.87  20190100     668.87\n",
       "15  2012-08-21  670.82  674.88  650.33  656.06  29025700     656.06\n",
       "16  2012-08-20  650.01  665.15  649.90  665.15  21906600     665.15\n",
       "17  2012-08-17  640.00  648.19  638.81  648.11  15812900     648.11\n",
       "18  2012-08-16  631.21  636.76  630.50  636.34   9090500     636.34\n",
       "19  2012-08-15  631.30  634.00  627.75  630.83   9190800     630.83\n",
       "20  2012-08-14  631.87  638.61  630.21  631.69  12148900     631.69"
      ]
     },
     "execution_count": 3,
     "metadata": {},
     "output_type": "execute_result"
    }
   ],
   "source": [
    "# select rows\n",
    "df[10:21]"
   ]
  },
  {
   "cell_type": "code",
   "execution_count": 4,
   "metadata": {
    "collapsed": false
   },
   "outputs": [
    {
     "name": "stdout",
     "output_type": "stream",
     "text": [
      "date range 2000-02-01 2012-09-12\n",
      "max close 680.44\n",
      "mean volume 21491431.338582676\n"
     ]
    }
   ],
   "source": [
    "# compute max closing price\n",
    "print ('date range', df['Date'].min(), df['Date'].max())\n",
    "print ('max close', df['Close'].max())\n",
    "print ('mean volume', df['Volume'].mean())\n"
   ]
  },
  {
   "cell_type": "code",
   "execution_count": 5,
   "metadata": {
    "collapsed": false
   },
   "outputs": [
    {
     "data": {
      "image/png": "[encoded data removed]",
      "text/plain": [
       "<matplotlib.figure.Figure at 0x5065d30>"
      ]
     },
     "metadata": {},
     "output_type": "display_data"
    }
   ],
   "source": [
    "# plotting stock price data\n",
    "import matplotlib.pyplot as plt\n",
    "\n",
    "df[['Close', 'Adj Close']].plot()\n",
    "plt.show()"
   ]
  },
  {
   "cell_type": "code",
   "execution_count": 6,
   "metadata": {
    "collapsed": false
   },
   "outputs": [
    {
     "data": {
      "text/html": [
       "<div>\n",
       "<table border=\"1\" class=\"dataframe\">\n",
       "  <thead>\n",
       "    <tr style=\"text-align: right;\">\n",
       "      <th></th>\n",
       "      <th>Date</th>\n",
       "      <th>Open</th>\n",
       "      <th>High</th>\n",
       "      <th>Low</th>\n",
       "      <th>Close</th>\n",
       "      <th>Volume</th>\n",
       "      <th>Adj Close</th>\n",
       "    </tr>\n",
       "  </thead>\n",
       "  <tbody>\n",
       "    <tr>\n",
       "      <th>0</th>\n",
       "      <td>2012-09-12</td>\n",
       "      <td>203.52</td>\n",
       "      <td>204.65</td>\n",
       "      <td>202.96</td>\n",
       "      <td>203.77</td>\n",
       "      <td>3284000</td>\n",
       "      <td>203.77</td>\n",
       "    </tr>\n",
       "    <tr>\n",
       "      <th>1</th>\n",
       "      <td>2012-09-11</td>\n",
       "      <td>200.55</td>\n",
       "      <td>203.46</td>\n",
       "      <td>200.51</td>\n",
       "      <td>203.27</td>\n",
       "      <td>3910600</td>\n",
       "      <td>203.27</td>\n",
       "    </tr>\n",
       "    <tr>\n",
       "      <th>2</th>\n",
       "      <td>2012-09-10</td>\n",
       "      <td>199.39</td>\n",
       "      <td>201.82</td>\n",
       "      <td>198.73</td>\n",
       "      <td>200.95</td>\n",
       "      <td>4208000</td>\n",
       "      <td>200.95</td>\n",
       "    </tr>\n",
       "    <tr>\n",
       "      <th>3</th>\n",
       "      <td>2012-09-07</td>\n",
       "      <td>199.12</td>\n",
       "      <td>199.50</td>\n",
       "      <td>198.08</td>\n",
       "      <td>199.50</td>\n",
       "      <td>3413700</td>\n",
       "      <td>199.50</td>\n",
       "    </tr>\n",
       "    <tr>\n",
       "      <th>4</th>\n",
       "      <td>2012-09-06</td>\n",
       "      <td>196.26</td>\n",
       "      <td>199.46</td>\n",
       "      <td>196.11</td>\n",
       "      <td>199.10</td>\n",
       "      <td>3931700</td>\n",
       "      <td>199.10</td>\n",
       "    </tr>\n",
       "  </tbody>\n",
       "</table>\n",
       "</div>"
      ],
      "text/plain": [
       "         Date    Open    High     Low   Close   Volume  Adj Close\n",
       "0  2012-09-12  203.52  204.65  202.96  203.77  3284000     203.77\n",
       "1  2012-09-11  200.55  203.46  200.51  203.27  3910600     203.27\n",
       "2  2012-09-10  199.39  201.82  198.73  200.95  4208000     200.95\n",
       "3  2012-09-07  199.12  199.50  198.08  199.50  3413700     199.50\n",
       "4  2012-09-06  196.26  199.46  196.11  199.10  3931700     199.10"
      ]
     },
     "execution_count": 6,
     "metadata": {},
     "output_type": "execute_result"
    }
   ],
   "source": [
    "# created helper class for reading stock data: DataHelper.py (DataHelper.GetPriceData(symbol))\n",
    "from DataHelper import DataHelper\n",
    "DataHelper.GetPriceData('ibm').head()"
   ]
  },
  {
   "cell_type": "code",
   "execution_count": null,
   "metadata": {
    "collapsed": true
   },
   "outputs": [],
   "source": []
  }
 ],
 "metadata": {
  "kernelspec": {
   "display_name": "Python 3",
   "language": "python",
   "name": "python3"
  },
  "language_info": {
   "codemirror_mode": {
    "name": "ipython",
    "version": 3
   },
   "file_extension": ".py",
   "mimetype": "text/x-python",
   "name": "python",
   "nbconvert_exporter": "python",
   "pygments_lexer": "ipython3",
   "version": "3.4.5"
  }
 },
 "nbformat": 4,
 "nbformat_minor": 2
}
