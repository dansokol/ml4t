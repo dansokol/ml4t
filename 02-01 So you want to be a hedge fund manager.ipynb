{
 "cells": [
  {
   "cell_type": "markdown",
   "metadata": {},
   "source": [
    "# 02-01 So you want to be a hedge fund manager"
   ]
  },
  {
   "cell_type": "markdown",
   "metadata": {},
   "source": [
    "#### Portfolio manager\n",
    "\n",
    "Compensation depends on the type of fund you manage and how well\n",
    "\n",
    "Liquid - how easy it is to buy/sell\n",
    "\n",
    "Large \"cap\" - # shares outstanding * price of stock\n",
    "\n",
    "Assets under management (AUM) - total market value of assets that investment company manages on behalf of investors\n",
    "\n",
    "#### Types of funds\n",
    "\n",
    "- ETF - exchange-traded fund (4 or 3 letters, e.g. DSUM)\n",
    "    - Buy/sell like stocks\n",
    "    - Represent baskets of stocks\n",
    "    - Transparent / very liquid\n",
    "    - Expense Ratio (low) 0.01% - 1.00%: low because they usually track index\n",
    "- Mutual Fund (5 letters, e.g. VTINX)\n",
    "    - Very clear goals (i.e. track index)\n",
    "    - Cany only buy/sell shares of mutual fund at end of day\n",
    "        - usually have to go through specific broker, can't trade on own\n",
    "    - Quarterly disclosure (don't know what they hold until end of each quarter)\n",
    "    - Less Transparent\n",
    "    - Expense ratio 0.5% - 3.00% - usually takes more skill so higher expense\n",
    "- Hedge Fund\n",
    "    - Buy/sell shares in hedge fund by agreement (secret, can't disclose agreement)\n",
    "    - No disclosure (doesn't have to disclose to anyone)\n",
    "    - Not transparent\n",
    "    - high costs - \"Two and Twenty\", 2% of AUM + 20% profits\n",
    "\n",
    "#### How funds attract investors\n",
    "\n",
    "Who\n",
    "- Individuals (extremly wealthy, can only have 100 investors typically, so each one has to be as wealthy as possible)\n",
    "- Institutions (very often non-profit that need to keep money somewhere)\n",
    "- Funds of funds (group together funds of many individuals or institutions and invest that money in funds)\n",
    "\n",
    "Why\n",
    "- Track record  (insititutions need to see 5 years of solid track record)\n",
    "- Simulation + Story describing that strategy, why that method works if no track record\n",
    "- Good portfolio fit\n",
    "\n",
    "#### Hedge fund goals and metrics\n",
    "\n",
    "##### goals\n",
    "\n",
    "- beat a benchmark (e.g. how much outperform S&P 500)\n",
    "- absolute return (long/short stocks, low draw-downs because of shorting stocks)\n",
    "\n",
    "##### metrics\n",
    "- cumulative return = (val[-1] / val[0]) - 1\n",
    "- volatility = daily_rets.std()\n",
    "- riks/reward share ratio = $\\sqrt(252)$ * $\\frac{mean(daily_rets - rf)}{daily_rets.std()}$\n",
    "\n",
    "##### computing inside a hedge fund\n",
    "\n",
    "Massive amount of computations in hedge funds\n",
    "- Historical Price Data (O, H, L, C, V = open, high, low, close, volume)\n",
    "- Target Portfolio\n",
    "- Trading Algorithm\n",
    "- Orders\n",
    "- Live Portfolio\n",
    "- Market\n",
    "\n",
    "sometimes takes days to enter a very large position, don't want to inflate price of stocks we buy large amounts of\n",
    "\n",
    "- Current Portfolio\n",
    "- N-day forecast (very often a machine learning model)\n",
    "    - Information Feed\n",
    "    - Historical Price Data\n",
    "    - Forecasting algorithm\n",
    "- Historical Data (O, H, L, C, V = open, high, low, close, volume)\n",
    "- Portfolio Optimizer\n",
    "- Risk Constraints\n",
    "- Target Portfolio\n"
   ]
  },
  {
   "cell_type": "code",
   "execution_count": null,
   "metadata": {
    "collapsed": true
   },
   "outputs": [],
   "source": []
  }
 ],
 "metadata": {
  "kernelspec": {
   "display_name": "Python 3",
   "language": "python",
   "name": "python3"
  },
  "language_info": {
   "codemirror_mode": {
    "name": "ipython",
    "version": 3
   },
   "file_extension": ".py",
   "mimetype": "text/x-python",
   "name": "python",
   "nbconvert_exporter": "python",
   "pygments_lexer": "ipython3",
   "version": "3.4.5"
  }
 },
 "nbformat": 4,
 "nbformat_minor": 2
}
