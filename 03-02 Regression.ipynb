{
 "cells": [
  {
   "cell_type": "markdown",
   "metadata": {},
   "source": [
    "# Regression\n",
    "\n",
    "#### Parametric regression - represent model with a number of parameters\n",
    "\n",
    "#### linear regression - fit a line to the data (y = mx + b) or y = ax^2 + bx + c\n",
    "\n",
    "\n",
    "### K nearest neighbor (KNN)\n",
    "\n",
    "#### data-centric approach, keep the data and use the data to calculate the output\n",
    "\n",
    "#### e.g. k = 3, find the 3 nearest neighbors and take the mean of their values\n",
    "\n",
    "\n",
    "### Kernel Regression\n",
    "\n",
    "#### weight of the contribution based on how distant they are\n",
    "\n",
    "- parametric - training is slow,query is fast\n",
    "- non-parametric - training is fast, query is slow\n",
    "\n",
    "\n",
    "#### Training and testing\n",
    "\n",
    "#### multiple features such as bollinger bands, volumes, price history, etc..\n",
    "#### test data must be different from training data\n",
    "\n",
    "\n",
    "#### Learning APIs\n",
    "\n",
    "- For linear regression:\n",
    "    - learner = LinRegLearner()\n",
    "    - learner.train(Xtrain, Ytrain)\n",
    "    - y = learner.query(Xtest)\n",
    "- For KNN\n",
    "    - leaner = KNNLearner(k=3)\n",
    "    - learner.train(Xtrain, train)\n",
    "    - y = learner.query(Xtest)\n",
    "   \n",
    "#### E.g. for liner regression\n",
    "\n",
    "class LinRegLearner:\n",
    "    def __init__():\n",
    "        pass\n",
    "    \n",
    "    def train(X, Y):\n",
    "        ' fit a line to X,Y\n",
    "        self.m, self.b = favorite_linreg(X,Y)\n",
    "        \n",
    "    def query(X):\n",
    "        y = self.m * X + self.b\n",
    "        return y\n",
    "        \n",
    "\n",
    "     \n",
    "    "
   ]
  }
 ],
 "metadata": {
  "kernelspec": {
   "display_name": "Python 3",
   "language": "python",
   "name": "python3"
  },
  "language_info": {
   "codemirror_mode": {
    "name": "ipython",
    "version": 3
   },
   "file_extension": ".py",
   "mimetype": "text/x-python",
   "name": "python",
   "nbconvert_exporter": "python",
   "pygments_lexer": "ipython3",
   "version": "3.4.5"
  }
 },
 "nbformat": 4,
 "nbformat_minor": 2
}
