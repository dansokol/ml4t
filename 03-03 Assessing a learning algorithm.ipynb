{
 "cells": [
  {
   "cell_type": "markdown",
   "metadata": {},
   "source": [
    "# 03-03 Assessing a learning algorithm\n",
    "\n",
    "\n",
    "### KNN solutions\n",
    "\n",
    "#### as k varies, the lower the value the more it will underfit the data, higher values will underfit the data\n",
    "#### with linear regression, opposite is true, more dimensions it will overfit, less dimensions will underfit\n",
    "\n",
    "#### test/training data important to not overlap and training data should be previous time period\n",
    "#### RMSE - root mean square error, measure of how well model fits data\n",
    "### cross validation (usually 60% of data is training, 40% is testing)\n",
    "- divide data into 5 segments, train on 80% of data, test on 20%, change the 20% that is tested and can get 5 trials\n",
    "- doesn't work with finanical data because of date bias in testing against data was trained with future data\n",
    "\n",
    "### roll forward cross validation\n",
    "- training data is alwasy before testing data\n",
    "- still have multiple trials by rolling our data forwrad\n",
    "\n",
    "### Metric 2: Correlation\n",
    "- compare xTest input and Ytest output with Ypredict\n",
    "- np.corrcoef() -> +1 positively correlated, -1 negative correlation\n",
    "- positive correlation means we have a good model\n",
    "\n",
    "### Overfitting\n",
    "-in sample error decreasing while out of sample error increasing\n",
    "\n"
   ]
  }
 ],
 "metadata": {
  "kernelspec": {
   "display_name": "Python 3",
   "language": "python",
   "name": "python3"
  },
  "language_info": {
   "codemirror_mode": {
    "name": "ipython",
    "version": 3
   },
   "file_extension": ".py",
   "mimetype": "text/x-python",
   "name": "python",
   "nbconvert_exporter": "python",
   "pygments_lexer": "ipython3",
   "version": "3.4.5"
  }
 },
 "nbformat": 4,
 "nbformat_minor": 2
}
