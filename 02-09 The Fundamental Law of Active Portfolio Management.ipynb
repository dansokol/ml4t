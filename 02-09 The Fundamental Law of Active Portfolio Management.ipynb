{
 "cells": [
  {
   "cell_type": "markdown",
   "metadata": {},
   "source": [
    "# 02-09 The Fundamental Law of Active Portfolio Management"
   ]
  },
  {
   "cell_type": "markdown",
   "metadata": {},
   "source": [
    "### Grinold's Fundamental Law\n",
    "\n",
    "- Performance\n",
    "- Skill\n",
    "- Breadth\n",
    "\n",
    "Some equation that we can combine skill and breadth to determine performance\n",
    "\n",
    "### ${performance = skill * \\sqrt breadth }$\n",
    "### ${IR (information ratio) = IC (information coefficient) * \\sqrt breadth }$\n"
   ]
  },
  {
   "cell_type": "markdown",
   "metadata": {},
   "source": [
    "### The coinflipping casino\n",
    "\n",
    "- Flip coins instead of stocks\n",
    "- The coin is biased - like alpha 0.51 heads\n",
    "- Uncertainty is like Beta\n",
    "\n",
    "Betting, Bet N coins\n",
    "- Win: now have 2* n\n",
    "- Lose: now have 0\n",
    "\n",
    "Casino\n",
    "- 1000 tables\n",
    "- 1000 tokens\n",
    "- game runs in parallel\n",
    "\n",
    "#### better to make lots of small bets than one big bet!, duh!"
   ]
  },
  {
   "cell_type": "code",
   "execution_count": 12,
   "metadata": {
    "collapsed": false
   },
   "outputs": [
    {
     "name": "stdout",
     "output_type": "stream",
     "text": [
      "single bet ER 20\n",
      "multi bet ER 20\n"
     ]
    }
   ],
   "source": [
    "# single bet expected return\n",
    "print('single bet ER', int(.51 * 1000 + .49*-1000))\n",
    "print ('multi bet ER', int((.51 * 1 + .49 * -1)*1000.0 ))"
   ]
  },
  {
   "cell_type": "code",
   "execution_count": 13,
   "metadata": {
    "collapsed": false
   },
   "outputs": [
    {
     "data": {
      "text/plain": [
       "1.57065220561815e-310"
      ]
     },
     "execution_count": 13,
     "metadata": {},
     "output_type": "execute_result"
    }
   ],
   "source": [
    "# risk, single bet has 49% of losing all your money\n",
    "\n",
    "# probablity that we lose everything is basically 0\n",
    ".49**1000"
   ]
  },
  {
   "cell_type": "code",
   "execution_count": 14,
   "metadata": {
    "collapsed": true
   },
   "outputs": [],
   "source": [
    "# standard deviation of individual bets is 1.0\n",
    "# standard deviation of single bet is 31.62 (if we assume $0 bets on other tables)"
   ]
  },
  {
   "cell_type": "code",
   "execution_count": 51,
   "metadata": {
    "collapsed": false
   },
   "outputs": [
    {
     "name": "stdout",
     "output_type": "stream",
     "text": [
      "std of single bet 31.6227766017\n",
      "sharpe ratio of single bet 0.632771997168\n",
      "sharpe ratio of multi bet 20.0\n"
     ]
    },
    {
     "data": {
      "text/plain": [
       "20.0"
      ]
     },
     "execution_count": 51,
     "metadata": {},
     "output_type": "execute_result"
    }
   ],
   "source": [
    "# SR single\n",
    "import numpy as np\n",
    "\n",
    "arr = np.zeros(1000)\n",
    "arr[0] = 1000\n",
    "print('std of single bet', np.std(arr, ddof=1))\n",
    "print('sharpe ratio of single bet', 20 / np.std(arr))\n",
    "print('sharpe ratio of multi bet', 20 / 1)\n",
    "\n",
    "# relationship is 20 = .63 * sqrt(1000)\n",
    "20 / np.std(arr, ddof=1) * np.sqrt(1000)\n",
    "\n",
    "# SRmulti = SRsingle * sqrt(#bets)\n",
    "# performance = skill * sqrt(breadth)\n",
    "\n",
    "# this is how we can derive performance = skill sqrt(breadth) formula"
   ]
  },
  {
   "cell_type": "code",
   "execution_count": 52,
   "metadata": {
    "collapsed": true
   },
   "outputs": [],
   "source": [
    "# higher alpha and higher good bets generates higher sharpe ratio"
   ]
  },
  {
   "cell_type": "markdown",
   "metadata": {},
   "source": [
    "### Real World\n",
    "\n",
    "- RenTec trades 100k/day\n",
    "- Warren buffet holds 120 stocks\n",
    "\n",
    "They have similar performance, fundamental law relates them\n",
    "\n",
    "- IR, Information Ratio\n",
    "    - ${r_p (t) = \\beta_p r_m (t) + \\alpha_p (t) }$\n",
    "    - IR (we look at alpha only, sharpe ratio of excess return) = ${ mean(\\alpha_p (t)) / stdev(\\alpha_p (t) }$\n",
    "    - IC (correlation of forecasts to returns) = range from 1 to 0, predict stock goes up 1% , it goes up .5% \n",
    "    - BR, breadth - number of trading opportunities per year\n",
    "    \n",
    "### IR = IC * sqrt(breadth)\n",
    "\n",
    "performance is skill at prediction * breadth, so can improve on skill or breadth, tapers off on breadth, very hard to improve skill though\n",
    "\n",
    "so how could warren buffet and RenTec have same Information Ratio despite different number of trades"
   ]
  },
  {
   "cell_type": "code",
   "execution_count": 55,
   "metadata": {
    "collapsed": false
   },
   "outputs": [
    {
     "data": {
      "text/plain": [
       "10954.451150103323"
      ]
     },
     "execution_count": 55,
     "metadata": {},
     "output_type": "execute_result"
    }
   ],
   "source": [
    "IC = 1000\n",
    "rentec = 1\n",
    "buffet = 1000\n",
    "\n",
    "buffet_IR = buffet * np.sqrt(120)\n",
    "buffet_IR"
   ]
  },
  {
   "cell_type": "code",
   "execution_count": 56,
   "metadata": {
    "collapsed": false
   },
   "outputs": [
    {
     "data": {
      "text/plain": [
       "120000000.00000001"
      ]
     },
     "execution_count": 56,
     "metadata": {},
     "output_type": "execute_result"
    }
   ],
   "source": [
    "buffet_IR**2\n",
    "\n",
    "# rentec has to trade 120 million times (buffet_IR^2) to have same IR\n",
    "\n"
   ]
  },
  {
   "cell_type": "code",
   "execution_count": null,
   "metadata": {
    "collapsed": true
   },
   "outputs": [],
   "source": []
  }
 ],
 "metadata": {
  "kernelspec": {
   "display_name": "Python 3",
   "language": "python",
   "name": "python3"
  },
  "language_info": {
   "codemirror_mode": {
    "name": "ipython",
    "version": 3
   },
   "file_extension": ".py",
   "mimetype": "text/x-python",
   "name": "python",
   "nbconvert_exporter": "python",
   "pygments_lexer": "ipython3",
   "version": "3.4.5"
  }
 },
 "nbformat": 4,
 "nbformat_minor": 2
}
