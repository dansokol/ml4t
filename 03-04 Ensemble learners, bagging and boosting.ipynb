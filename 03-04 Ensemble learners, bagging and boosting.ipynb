{
 "cells": [
  {
   "cell_type": "markdown",
   "metadata": {},
   "source": [
    "# 03-04 Ensemble learners, bagging and boosting"
   ]
  },
  {
   "cell_type": "markdown",
   "metadata": {},
   "source": [
    "### Can a set of weak learners be combined to better than a strong learner\n",
    "#### winning algorithm of netflix was an ensemble of learners\n",
    "\n",
    "### Creating an ensemble of learners, combing together several different models/learners\n",
    "\n",
    "#### e.gg KNN, LinReg, Decision Tree, SVM all trained using same data\n",
    "#### to query, query each model by itself and combine the result -> take the mean for regression\n",
    "\n",
    "## Ensembles:\n",
    "\n",
    "- lower error\n",
    "- less overfitting\n",
    "- better results\n",
    "\n",
    "results are better because each model on its own has bias, combining multiple can remove some of that bias\n",
    "\n",
    "## Bootstrap aggregating - bagging\n",
    "\n",
    "1. create a number of subsets of data (random with replacement)\n",
    "2. each bag has random sampling of data\n",
    "3. train each bag of data, ensemble of different models\n",
    "\n",
    "## Boosting : Ada Boost\n",
    "\n",
    "#### fairly simple variation on bagging, can be better but as m (number of bags) increases can overfit\n",
    "\n",
    "1. build first bag of data in usual way\n",
    "2. train model in usual way\n",
    "3. take all of our training data and use it to test the model (find some data that has significant error)\n",
    "4. when we pick next bag, we pick data with weights on error so data that had high error is more likely to be picked\n",
    "\n",
    "\n",
    "\n",
    "\n"
   ]
  }
 ],
 "metadata": {
  "kernelspec": {
   "display_name": "Python 3",
   "language": "python",
   "name": "python3"
  },
  "language_info": {
   "codemirror_mode": {
    "name": "ipython",
    "version": 3
   },
   "file_extension": ".py",
   "mimetype": "text/x-python",
   "name": "python",
   "nbconvert_exporter": "python",
   "pygments_lexer": "ipython3",
   "version": "3.4.5"
  }
 },
 "nbformat": 4,
 "nbformat_minor": 2
}
