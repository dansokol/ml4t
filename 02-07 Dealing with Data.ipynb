{
 "cells": [
  {
   "cell_type": "markdown",
   "metadata": {},
   "source": [
    "# 02-07 Dealing with Data"
   ]
  },
  {
   "cell_type": "markdown",
   "metadata": {},
   "source": [
    "### How data is aggregated\n",
    "\n",
    "exchanges have their own tick data, it may differ between exchanges\n",
    "\n",
    "tick data is usually consolidated into:\n",
    "\n",
    "- minute by minute\n",
    "- hour\n",
    "- day\n",
    "- etc...\n",
    "\n",
    "data is aggregated into:\n",
    "- open \n",
    "- high \n",
    "- low \n",
    "- close \n",
    "- vol\n"
   ]
  },
  {
   "cell_type": "markdown",
   "metadata": {},
   "source": [
    "### Stock splits\n",
    "\n",
    "stocks split because price is too high, options become very expensive and less liquid with high share price\n",
    "\n",
    "also splits are key in maintaining portfolio balance, too high stock prices may make it extremely difficult to keep weights\n",
    "\n",
    "for back testing this is a problem, solution was adjusted close"
   ]
  },
  {
   "cell_type": "markdown",
   "metadata": {},
   "source": [
    "### Dividends\n",
    "\n",
    "stock goes up on dividend announcement, stock drops on day dividend given out\n",
    "\n",
    "### Adjusting for dividends\n",
    "\n",
    "subtract that dividend % historically\n",
    "\n",
    "\n",
    "adjusted close adjusted for dividends and splits\n",
    "\n",
    "#### adjusted closed will be different based on what date you get the data, if you get data in 2012 and 2015, stock price on 2010 will be different"
   ]
  },
  {
   "cell_type": "markdown",
   "metadata": {},
   "source": [
    "### Survivor bias\n",
    "\n",
    "look at universe of stocks today and go back in time, it will be biased\n",
    "\n",
    "we need to look at universe of stocks at that time!\n",
    "\n",
    "From 2007 to 2009, 68 stocks in SP500 completely went away!"
   ]
  }
 ],
 "metadata": {
  "kernelspec": {
   "display_name": "Python 3",
   "language": "python",
   "name": "python3"
  },
  "language_info": {
   "codemirror_mode": {
    "name": "ipython",
    "version": 3
   },
   "file_extension": ".py",
   "mimetype": "text/x-python",
   "name": "python",
   "nbconvert_exporter": "python",
   "pygments_lexer": "ipython3",
   "version": "3.4.5"
  }
 },
 "nbformat": 4,
 "nbformat_minor": 2
}
