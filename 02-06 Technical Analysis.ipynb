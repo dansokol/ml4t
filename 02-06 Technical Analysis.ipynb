{
 "cells": [
  {
   "cell_type": "markdown",
   "metadata": {},
   "source": [
    "# 02-06 Technical Analysis"
   ]
  },
  {
   "cell_type": "markdown",
   "metadata": {},
   "source": [
    "Technical has value over shorter term (traders), fundamental value is over long term (warren buffet approach)\n",
    "\n",
    "fundamental factors provide small value in short period, a lot of value over long period\n",
    "\n",
    "technical has little value over long period, a lot of value over short period\n",
    "\n",
    "Humans are best to operate on complex decisions that plan on years in advance\n",
    "\n",
    "Computers are best with technical anlaysis on short time periods\n",
    "\n",
    "Region in middle is where humans/computers work together\n",
    "\n",
    "Indicators:\n",
    "\n",
    "- momentum\n",
    "- simple N-day moving average\n",
    "- bollinger bands (SMA +- 2 * standard deviation)\n",
    "\n",
    "Normalization!\n",
    "\n",
    "normed = (values - mean) / values.std()\n",
    "\n",
    "normalization formula will make values range between -1 and 1 with mean of 0\n",
    "\n"
   ]
  },
  {
   "cell_type": "code",
   "execution_count": null,
   "metadata": {
    "collapsed": true
   },
   "outputs": [],
   "source": []
  }
 ],
 "metadata": {
  "kernelspec": {
   "display_name": "Python 3",
   "language": "python",
   "name": "python3"
  },
  "language_info": {
   "codemirror_mode": {
    "name": "ipython",
    "version": 3
   },
   "file_extension": ".py",
   "mimetype": "text/x-python",
   "name": "python",
   "nbconvert_exporter": "python",
   "pygments_lexer": "ipython3",
   "version": "3.4.5"
  }
 },
 "nbformat": 4,
 "nbformat_minor": 2
}
