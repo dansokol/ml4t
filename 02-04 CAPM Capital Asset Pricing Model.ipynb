{
 "cells": [
  {
   "cell_type": "markdown",
   "metadata": {},
   "source": [
    "# 02-04 CAPM: Capital Asset Pricing Model"
   ]
  },
  {
   "cell_type": "markdown",
   "metadata": {},
   "source": [
    "Explains how the market impacts individual stock prices and also provides mathmatical \n",
    "\n",
    "#### portfolio - weighted set of assets (${ \\sum w_i }$ = 1.0)\n",
    "#### ${w_i}$ : portion of funds in asset i\n",
    "#### return of portfolio at time t ${ r_p(t)= \\sum_i w_i r_i(t) }$\n",
    "\n",
    "#### The Market Portfolio\n",
    "\n",
    "Markets (oceans)\n",
    "- US: SP500 (largest 500 companies, changes each day)\n",
    "- UK: FTA\n",
    "- Japan: TOPIX\n",
    "\n",
    "Sectors (islands)\n",
    "- Energy\n",
    "- Technology\n",
    "- Manufacturing\n",
    "- Finance\n",
    "- etc...\n"
   ]
  },
  {
   "cell_type": "markdown",
   "metadata": {},
   "source": [
    "### The CAPM equation\n",
    "\n",
    "# ${r_i(t) = \\beta_i r_m(t) + \\alpha_i(t) }$\n",
    "\n",
    "i.e this equation means that the market has huge impact on return versus alpha\n",
    "Beta is market, alpha is residual\n",
    "\n",
    "CAPM says expectation for alpha is 0, it's a random variable...\n",
    "\n",
    "beta is slope of line, alpha is y intercept\n",
    "\n",
    "\n",
    "#### CAPM vs Active management\n",
    "\n",
    "passive: buy index and hold\n",
    "active: pick stocks (overweight/underweight stocks vs index portfolio)\n",
    "\n",
    "both active and passive agree that how stock moves is highly related to beta/market\n",
    "\n",
    "CAPM says alpha is random, can't predict, can expect it to be 0\n",
    "Active managers believe they can predict alpha (believe on average better than market)\n",
    "\n",
    "\n",
    "#### CAPM for portfolios\n",
    "\n",
    "again, CAPM assumes alpha is 0, active manager thinks they can find alphas so should calculate out sum of all alphas\n",
    "\n",
    "#### Implications of CAPM\n",
    "\n",
    "CAPM says only way to beat market is too choose high Beta in up markets, low Beta in down markets\n",
    "Efficent Market Hypothesis (EMH) says you can't predict the market\n",
    "\n",
    "#### Arbitrage Pricing Theory (APT)\n",
    "\n",
    "Stephen Ross 1976, we have single Beta, maybe we should have multiple Betas (consider different Islands instead of Ocean)\n",
    "e.g. compute Beta of finance, Beta of Tech, Beta of Mfg\n",
    "\n"
   ]
  },
  {
   "cell_type": "code",
   "execution_count": null,
   "metadata": {
    "collapsed": true
   },
   "outputs": [],
   "source": []
  }
 ],
 "metadata": {
  "kernelspec": {
   "display_name": "Python 3",
   "language": "python",
   "name": "python3"
  },
  "language_info": {
   "codemirror_mode": {
    "name": "ipython",
    "version": 3
   },
   "file_extension": ".py",
   "mimetype": "text/x-python",
   "name": "python",
   "nbconvert_exporter": "python",
   "pygments_lexer": "ipython3",
   "version": "3.4.5"
  }
 },
 "nbformat": 4,
 "nbformat_minor": 2
}
