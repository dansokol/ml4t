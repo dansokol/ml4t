{
 "cells": [
  {
   "cell_type": "markdown",
   "metadata": {},
   "source": [
    "# MC2-Project-1 Build a Market Simulator"
   ]
  },
  {
   "cell_type": "code",
   "execution_count": 1,
   "metadata": {
    "collapsed": true
   },
   "outputs": [],
   "source": [
    "# http://quantsoftware.gatech.edu/MC2-Project-1\n",
    "\n",
    "from DataHelper import DataHelper"
   ]
  },
  {
   "cell_type": "code",
   "execution_count": null,
   "metadata": {
    "collapsed": true
   },
   "outputs": [],
   "source": [
    "# input: orders file (name of file), initial cash\n",
    "# output: history of value\n",
    "\n",
    "#  *** ASSUMPTIONS ***\n",
    "# if we sell a symbol that we don't own, then we are shorting\n",
    "# orders are filled with adj. close prices\n",
    "\n",
    "# psuedo algorithm to process orders file:\n",
    "\n",
    "# step 1 - create Prices dataFrame \n",
    "#    read in data file, what's earliest date, last date, call get data\n",
    "#    make dataframe with date, [stock symbols], cash\n",
    "#    cash is equal to 1.0 for each day (when dealing with foreign currencies could be other value)\n",
    "\n",
    "# step 2 - create a trades dataFrame to log change of shares in stocks\n",
    "#    date, [stock symbols that holds volume], cash (start at 0)\n",
    "#    initialize with 0 and populate step by step \n",
    "\n",
    "# step 3 - populate trades dataFrame\n",
    "#    step through orders file line by line and process (is just logging, doesn't total items)\n",
    "#    will need for loop\n",
    "\n",
    "# step 4 - create a holdings dataFrame\n",
    "#    date, [stock symbols], cash\n",
    "#    initialize everything to 0 and 1st day with initial cash\n",
    "#    loop through trades dataFrame and populate each day with any trades + previous day volume\n",
    "\n",
    "# step 5 - create a Values dataFrame\n",
    "#    represents the value of dollars of each asset we hold\n",
    "#    Values = holdings * price dataFrame\n",
    "#\n",
    "# step 6 - sum (axis=1) of Values of dataFrame to get daily value;\n"
   ]
  },
  {
   "cell_type": "markdown",
   "metadata": {},
   "source": [
    "### Leverage\n",
    "\n",
    "### ${ Leverage = \\frac{\\sum |investements|}{\\sum investments  + cash} }$\n",
    "\n",
    "sum (abs (investments)) / sum(investments) + cash\n"
   ]
  },
  {
   "cell_type": "code",
   "execution_count": null,
   "metadata": {
    "collapsed": true
   },
   "outputs": [],
   "source": []
  }
 ],
 "metadata": {
  "kernelspec": {
   "display_name": "Python 3",
   "language": "python",
   "name": "python3"
  },
  "language_info": {
   "codemirror_mode": {
    "name": "ipython",
    "version": 3
   },
   "file_extension": ".py",
   "mimetype": "text/x-python",
   "name": "python",
   "nbconvert_exporter": "python",
   "pygments_lexer": "ipython3",
   "version": "3.4.5"
  }
 },
 "nbformat": 4,
 "nbformat_minor": 2
}
