{
 "cells": [
  {
   "cell_type": "markdown",
   "metadata": {},
   "source": [
    "# What is a company worth?\n",
    "\n",
    "Future value vs Present Value\n",
    "\n",
    "- intrinsic value   # based on future dividend     # future \n",
    "- book value        # balance sheet                # current \n",
    "- market cap(value) # price * outstanding shares   # supposedly reflects both future and current \n",
    "\n",
    "intrinsic value (future cash flow based valuation) = present value of all future returns\n",
    "- interest rate\n",
    "- discounted cash flow # $1 today is more worth than $1 in the future (well we have negative interst rate so that is even debatable) \n",
    "\n",
    "The present value of a future dollar = $1.00 / (1+interest_rate)^i\n",
    "\n",
    "opportunity cost - lost opportunity to put that money somewhere else\n",
    "\n",
    "interest rate vs. discount rate, essentaill same quantity but discount term used when we want to compute corresponding present value, interest rate term used with given Present Value to figure out what Future value would be\n",
    "\n",
    "Book value = total assets minus intangible assets (i.e. don't count intangible assets) and liabilities\n",
    "\n",
    "\n",
    "An asset-based valuation implicitly ignores future earnings; while a cash flow-based valuation focuses exclusively on those future earnings.  Adding the two together can produce the mose complete valuation\n"
   ]
  },
  {
   "cell_type": "code",
   "execution_count": null,
   "metadata": {
    "collapsed": true
   },
   "outputs": [],
   "source": []
  }
 ],
 "metadata": {
  "kernelspec": {
   "display_name": "Python 3",
   "language": "python",
   "name": "python3"
  },
  "language_info": {
   "codemirror_mode": {
    "name": "ipython",
    "version": 3
   },
   "file_extension": ".py",
   "mimetype": "text/x-python",
   "name": "python",
   "nbconvert_exporter": "python",
   "pygments_lexer": "ipython3",
   "version": "3.4.5"
  }
 },
 "nbformat": 4,
 "nbformat_minor": 2
}
