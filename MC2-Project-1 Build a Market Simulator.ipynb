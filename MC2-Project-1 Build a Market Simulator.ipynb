{
 "cells": [
  {
   "cell_type": "markdown",
   "metadata": {},
   "source": [
    "# MC2-Project-1 Build a Market Simulator"
   ]
  },
  {
   "cell_type": "code",
   "execution_count": 4,
   "metadata": {
    "collapsed": true
   },
   "outputs": [],
   "source": [
    "# http://quantsoftware.gatech.edu/MC2-Project-1\n",
    "\n",
    "from DataHelper import DataHelper\n",
    "\n",
    "import pandas as pd\n",
    "import matplotlib.pyplot as plt\n",
    "import numpy as np\n",
    "import statsmodels.api as sm\n",
    "import scipy.optimize as spo"
   ]
  },
  {
   "cell_type": "code",
   "execution_count": null,
   "metadata": {
    "collapsed": true
   },
   "outputs": [],
   "source": [
    "# input: orders file (name of file), initial cash\n",
    "# output: history of value\n",
    "\n",
    "#  *** ASSUMPTIONS ***\n",
    "# if we sell a symbol that we don't own, then we are shorting\n",
    "# orders are filled with adj. close prices\n",
    "\n",
    "# psuedo algorithm to process orders file:\n",
    "\n",
    "# step 1 - create Prices dataFrame \n",
    "#    read in data file, what's earliest date, last date, call get data\n",
    "#    make dataframe with date, [stock symbols], cash\n",
    "#    cash is equal to 1.0 for each day (when dealing with foreign currencies could be other value)\n",
    "\n",
    "# step 2 - create a trades dataFrame to log change of shares in stocks\n",
    "#    date, [stock symbols that holds volume], cash (start at 0)\n",
    "#    initialize with 0 and populate step by step \n",
    "\n",
    "# step 3 - populate trades dataFrame\n",
    "#    step through orders file line by line and process (is just logging, doesn't total items)\n",
    "#    will need for loop\n",
    "\n",
    "# step 4 - create a holdings dataFrame\n",
    "#    date, [stock symbols], cash\n",
    "#    initialize everything to 0 and 1st day with initial cash\n",
    "#    loop through trades dataFrame and populate each day with any trades + previous day volume\n",
    "\n",
    "# step 5 - create a Values dataFrame\n",
    "#    represents the value of dollars of each asset we hold\n",
    "#    Values = holdings * price dataFrame\n",
    "#\n",
    "# step 6 - sum (axis=1) of Values of dataFrame to get daily value;\n"
   ]
  },
  {
   "cell_type": "markdown",
   "metadata": {},
   "source": [
    "### Leverage\n",
    "\n",
    "### ${ Leverage = \\frac{\\sum |investements|}{\\sum investments  + cash} }$\n",
    "\n",
    "sum (abs (investments)) / sum(investments) + cash\n"
   ]
  },
  {
   "cell_type": "code",
   "execution_count": 111,
   "metadata": {
    "collapsed": false,
    "scrolled": true
   },
   "outputs": [],
   "source": [
    "# e.g.\n",
    "\n",
    "#Date,Symbol,Order,Shares\n",
    "#2011-01-05,AAPL,BUY,1500\n",
    "#2011-01-20,AAPL,SELL,1500\n",
    "\n",
    "# daily value\n",
    "\n",
    "#2011-01-05     997495.775\n",
    "#2011-01-06     997090.775\n",
    "#2011-01-07    1000660.775\n",
    "#2011-01-10    1010125.775\n",
    "#2011-01-11    1008910.775\n",
    "#2011-01-12    1013065.775\n",
    "#2011-01-13    1014940.775\n",
    "#2011-01-14    1019125.775\n",
    "#2011-01-18    1007425.775\n",
    "#2011-01-19    1004725.775\n",
    "#2011-01-20     993036.375\n",
    "start_balance = 1000000"
   ]
  },
  {
   "cell_type": "code",
   "execution_count": 259,
   "metadata": {
    "collapsed": false
   },
   "outputs": [],
   "source": [
    "def getOrdersDataFrame(fileName):\n",
    "    #'testcases_mc2p1/orders-short.csv'\n",
    "    df = pd.read_csv(fileName, index_col='Date', parse_dates=True, na_values=['nan'])\n",
    "    return df.sort_index()\n",
    "\n",
    "def getPricesDataFrame(ordersData):\n",
    "    df = DataHelper.GetPriceHistory(ordersData['Symbol'].unique().tolist(), ordersData.index.min(), ordersData.index.max(), False)\n",
    "    df['USDCASH'] = 1.0\n",
    "    return df\n",
    "\n",
    "def getTradesDataFrame(ordersData1, pricesData):\n",
    "    df = pricesData.copy()\n",
    "    #df['TxFees'] = 0.0\n",
    "    df[:] = 0.0\n",
    "    for index, row in ordersData1.iterrows():\n",
    "        symbol = row['Symbol']\n",
    "        order = row['Order']\n",
    "        shares = row['Shares']\n",
    "        price = df.ix[index][symbol]\n",
    "        fees = 9.95 + price * .005 * shares\n",
    "\n",
    "        if(order == 'BUY'):\n",
    "            df.ix[index][symbol] = shares\n",
    "        else:\n",
    "            df.ix[index][symbol] = -shares\n",
    "\n",
    "        df.ix[index]['USDCASH'] = df.ix[index]['USDCASH'] + (-df.ix[index][symbol] * price) - fees\n",
    "        #df.ix[index]['TxFees'] = df.ix[index]['TxFees'] + fees\n",
    "    return df\n",
    "\n",
    "def getHoldingsDataFrame(tradeData):\n",
    "    holdings = tradeData.copy()\n",
    "    holdings[:] = 0.0\n",
    "\n",
    "    holdings.ix[0]['USDCASH'] = start_balance\n",
    "\n",
    "    prevIndex = -1\n",
    "    for index, row in tradeData.iterrows():\n",
    "        if(prevIndex == -1):\n",
    "            prevIndex = index\n",
    "\n",
    "        holdings.ix[index] = tradeData.ix[index] + holdings.ix[prevIndex]\n",
    "        prevIndex = index\n",
    "\n",
    "\n",
    "    return holdings\n",
    "\n",
    "def compute_portvals(orders_file, start_val  = 1000000):\n",
    "    ordersData1 = getOrdersDataFrame(orders_file)\n",
    "    priceData1 = getPricesDataFrame(ordersData1)\n",
    "    tradeData1 = getTradesDataFrame(ordersData1, priceData1)\n",
    "    holdingsData1 = getHoldingsDataFrame(tradeData1)\n",
    "    valuesData1 = holdingsData1 * priceData1\n",
    "    return valuesData1.sum(axis=1)\n",
    "\n",
    "def assess_fund(dailyValues, rfr=0.0, sf=252.0):\n",
    "    normed = DataHelper.normalize_data(dailyValues)\n",
    "    cum_ret = (normed[-1] / normed[0]) - 1\n",
    "    daily_ret = DataHelper.compute_daily_returns(normed)[1:,]\n",
    "    mean = daily_ret.mean()\n",
    "    std = daily_ret.std()\n",
    "    sharpe_ratio = ((mean - rfr) / std) * (sf ** (1/2.0))\n",
    "    stats = {\"cum_ret\": cum_ret, \"daily_ret\": mean, \"std_ret\": std, \"sharpe_ratio\": sharpe_ratio}\n",
    "    return stats\n",
    "    "
   ]
  },
  {
   "cell_type": "code",
   "execution_count": 260,
   "metadata": {
    "collapsed": false,
    "scrolled": true
   },
   "outputs": [
    {
     "data": {
      "text/html": [
       "<div>\n",
       "<table border=\"1\" class=\"dataframe\">\n",
       "  <thead>\n",
       "    <tr style=\"text-align: right;\">\n",
       "      <th></th>\n",
       "      <th>Symbol</th>\n",
       "      <th>Order</th>\n",
       "      <th>Shares</th>\n",
       "    </tr>\n",
       "    <tr>\n",
       "      <th>Date</th>\n",
       "      <th></th>\n",
       "      <th></th>\n",
       "      <th></th>\n",
       "    </tr>\n",
       "  </thead>\n",
       "  <tbody>\n",
       "    <tr>\n",
       "      <th>2011-01-10</th>\n",
       "      <td>AAPL</td>\n",
       "      <td>BUY</td>\n",
       "      <td>1500</td>\n",
       "    </tr>\n",
       "    <tr>\n",
       "      <th>2011-01-13</th>\n",
       "      <td>AAPL</td>\n",
       "      <td>SELL</td>\n",
       "      <td>1500</td>\n",
       "    </tr>\n",
       "    <tr>\n",
       "      <th>2011-01-13</th>\n",
       "      <td>IBM</td>\n",
       "      <td>BUY</td>\n",
       "      <td>4000</td>\n",
       "    </tr>\n",
       "    <tr>\n",
       "      <th>2011-01-26</th>\n",
       "      <td>GOOG</td>\n",
       "      <td>BUY</td>\n",
       "      <td>1000</td>\n",
       "    </tr>\n",
       "    <tr>\n",
       "      <th>2011-02-02</th>\n",
       "      <td>XOM</td>\n",
       "      <td>SELL</td>\n",
       "      <td>4000</td>\n",
       "    </tr>\n",
       "    <tr>\n",
       "      <th>2011-02-10</th>\n",
       "      <td>XOM</td>\n",
       "      <td>BUY</td>\n",
       "      <td>4000</td>\n",
       "    </tr>\n",
       "    <tr>\n",
       "      <th>2011-03-03</th>\n",
       "      <td>GOOG</td>\n",
       "      <td>SELL</td>\n",
       "      <td>1000</td>\n",
       "    </tr>\n",
       "    <tr>\n",
       "      <th>2011-03-03</th>\n",
       "      <td>IBM</td>\n",
       "      <td>SELL</td>\n",
       "      <td>2200</td>\n",
       "    </tr>\n",
       "    <tr>\n",
       "      <th>2011-05-03</th>\n",
       "      <td>IBM</td>\n",
       "      <td>BUY</td>\n",
       "      <td>1500</td>\n",
       "    </tr>\n",
       "    <tr>\n",
       "      <th>2011-06-03</th>\n",
       "      <td>IBM</td>\n",
       "      <td>SELL</td>\n",
       "      <td>3300</td>\n",
       "    </tr>\n",
       "    <tr>\n",
       "      <th>2011-06-10</th>\n",
       "      <td>AAPL</td>\n",
       "      <td>BUY</td>\n",
       "      <td>10000</td>\n",
       "    </tr>\n",
       "    <tr>\n",
       "      <th>2011-08-01</th>\n",
       "      <td>GOOG</td>\n",
       "      <td>BUY</td>\n",
       "      <td>55</td>\n",
       "    </tr>\n",
       "    <tr>\n",
       "      <th>2011-08-01</th>\n",
       "      <td>GOOG</td>\n",
       "      <td>SELL</td>\n",
       "      <td>55</td>\n",
       "    </tr>\n",
       "    <tr>\n",
       "      <th>2011-12-20</th>\n",
       "      <td>AAPL</td>\n",
       "      <td>SELL</td>\n",
       "      <td>1200</td>\n",
       "    </tr>\n",
       "  </tbody>\n",
       "</table>\n",
       "</div>"
      ],
      "text/plain": [
       "           Symbol Order  Shares\n",
       "Date                           \n",
       "2011-01-10   AAPL   BUY    1500\n",
       "2011-01-13   AAPL  SELL    1500\n",
       "2011-01-13    IBM   BUY    4000\n",
       "2011-01-26   GOOG   BUY    1000\n",
       "2011-02-02    XOM  SELL    4000\n",
       "2011-02-10    XOM   BUY    4000\n",
       "2011-03-03   GOOG  SELL    1000\n",
       "2011-03-03    IBM  SELL    2200\n",
       "2011-05-03    IBM   BUY    1500\n",
       "2011-06-03    IBM  SELL    3300\n",
       "2011-06-10   AAPL   BUY   10000\n",
       "2011-08-01   GOOG   BUY      55\n",
       "2011-08-01   GOOG  SELL      55\n",
       "2011-12-20   AAPL  SELL    1200"
      ]
     },
     "execution_count": 260,
     "metadata": {},
     "output_type": "execute_result"
    }
   ],
   "source": [
    "ordersData = getOrdersDataFrame('testcases_mc2p1/orders-12.csv')\n",
    "ordersData"
   ]
  },
  {
   "cell_type": "code",
   "execution_count": 261,
   "metadata": {
    "collapsed": false
   },
   "outputs": [],
   "source": [
    "priceData = getPricesDataFrame(ordersData)\n",
    "tradeData = getTradesDataFrame(ordersData, priceData)\n",
    "holdingsData = getHoldingsDataFrame(tradeData)\n",
    "valuesData = holdingsData * priceData"
   ]
  },
  {
   "cell_type": "code",
   "execution_count": 176,
   "metadata": {
    "collapsed": false,
    "scrolled": true
   },
   "outputs": [
    {
     "data": {
      "text/html": [
       "<div>\n",
       "<table border=\"1\" class=\"dataframe\">\n",
       "  <thead>\n",
       "    <tr style=\"text-align: right;\">\n",
       "      <th></th>\n",
       "      <th>AAPL</th>\n",
       "      <th>USDCASH</th>\n",
       "    </tr>\n",
       "  </thead>\n",
       "  <tbody>\n",
       "    <tr>\n",
       "      <th>2011-01-05</th>\n",
       "      <td>1500.0</td>\n",
       "      <td>498640.775</td>\n",
       "    </tr>\n",
       "    <tr>\n",
       "      <th>2011-01-06</th>\n",
       "      <td>1500.0</td>\n",
       "      <td>498640.775</td>\n",
       "    </tr>\n",
       "    <tr>\n",
       "      <th>2011-01-07</th>\n",
       "      <td>1500.0</td>\n",
       "      <td>498640.775</td>\n",
       "    </tr>\n",
       "    <tr>\n",
       "      <th>2011-01-10</th>\n",
       "      <td>1500.0</td>\n",
       "      <td>498640.775</td>\n",
       "    </tr>\n",
       "    <tr>\n",
       "      <th>2011-01-11</th>\n",
       "      <td>1500.0</td>\n",
       "      <td>498640.775</td>\n",
       "    </tr>\n",
       "    <tr>\n",
       "      <th>2011-01-12</th>\n",
       "      <td>1500.0</td>\n",
       "      <td>498640.775</td>\n",
       "    </tr>\n",
       "    <tr>\n",
       "      <th>2011-01-13</th>\n",
       "      <td>1500.0</td>\n",
       "      <td>498640.775</td>\n",
       "    </tr>\n",
       "    <tr>\n",
       "      <th>2011-01-14</th>\n",
       "      <td>1500.0</td>\n",
       "      <td>498640.775</td>\n",
       "    </tr>\n",
       "    <tr>\n",
       "      <th>2011-01-18</th>\n",
       "      <td>1500.0</td>\n",
       "      <td>498640.775</td>\n",
       "    </tr>\n",
       "    <tr>\n",
       "      <th>2011-01-19</th>\n",
       "      <td>1500.0</td>\n",
       "      <td>498640.775</td>\n",
       "    </tr>\n",
       "    <tr>\n",
       "      <th>2011-01-20</th>\n",
       "      <td>0.0</td>\n",
       "      <td>993036.375</td>\n",
       "    </tr>\n",
       "  </tbody>\n",
       "</table>\n",
       "</div>"
      ],
      "text/plain": [
       "              AAPL     USDCASH\n",
       "2011-01-05  1500.0  498640.775\n",
       "2011-01-06  1500.0  498640.775\n",
       "2011-01-07  1500.0  498640.775\n",
       "2011-01-10  1500.0  498640.775\n",
       "2011-01-11  1500.0  498640.775\n",
       "2011-01-12  1500.0  498640.775\n",
       "2011-01-13  1500.0  498640.775\n",
       "2011-01-14  1500.0  498640.775\n",
       "2011-01-18  1500.0  498640.775\n",
       "2011-01-19  1500.0  498640.775\n",
       "2011-01-20     0.0  993036.375"
      ]
     },
     "execution_count": 176,
     "metadata": {},
     "output_type": "execute_result"
    }
   ],
   "source": [
    "holdingsData"
   ]
  },
  {
   "cell_type": "code",
   "execution_count": 177,
   "metadata": {
    "collapsed": false,
    "scrolled": true
   },
   "outputs": [
    {
     "data": {
      "text/html": [
       "<div>\n",
       "<table border=\"1\" class=\"dataframe\">\n",
       "  <thead>\n",
       "    <tr style=\"text-align: right;\">\n",
       "      <th></th>\n",
       "      <th>AAPL</th>\n",
       "      <th>USDCASH</th>\n",
       "    </tr>\n",
       "  </thead>\n",
       "  <tbody>\n",
       "    <tr>\n",
       "      <th>2011-01-05</th>\n",
       "      <td>498855.0</td>\n",
       "      <td>498640.775</td>\n",
       "    </tr>\n",
       "    <tr>\n",
       "      <th>2011-01-06</th>\n",
       "      <td>498450.0</td>\n",
       "      <td>498640.775</td>\n",
       "    </tr>\n",
       "    <tr>\n",
       "      <th>2011-01-07</th>\n",
       "      <td>502020.0</td>\n",
       "      <td>498640.775</td>\n",
       "    </tr>\n",
       "    <tr>\n",
       "      <th>2011-01-10</th>\n",
       "      <td>511485.0</td>\n",
       "      <td>498640.775</td>\n",
       "    </tr>\n",
       "    <tr>\n",
       "      <th>2011-01-11</th>\n",
       "      <td>510270.0</td>\n",
       "      <td>498640.775</td>\n",
       "    </tr>\n",
       "    <tr>\n",
       "      <th>2011-01-12</th>\n",
       "      <td>514425.0</td>\n",
       "      <td>498640.775</td>\n",
       "    </tr>\n",
       "    <tr>\n",
       "      <th>2011-01-13</th>\n",
       "      <td>516300.0</td>\n",
       "      <td>498640.775</td>\n",
       "    </tr>\n",
       "    <tr>\n",
       "      <th>2011-01-14</th>\n",
       "      <td>520485.0</td>\n",
       "      <td>498640.775</td>\n",
       "    </tr>\n",
       "    <tr>\n",
       "      <th>2011-01-18</th>\n",
       "      <td>508785.0</td>\n",
       "      <td>498640.775</td>\n",
       "    </tr>\n",
       "    <tr>\n",
       "      <th>2011-01-19</th>\n",
       "      <td>506085.0</td>\n",
       "      <td>498640.775</td>\n",
       "    </tr>\n",
       "    <tr>\n",
       "      <th>2011-01-20</th>\n",
       "      <td>0.0</td>\n",
       "      <td>993036.375</td>\n",
       "    </tr>\n",
       "  </tbody>\n",
       "</table>\n",
       "</div>"
      ],
      "text/plain": [
       "                AAPL     USDCASH\n",
       "2011-01-05  498855.0  498640.775\n",
       "2011-01-06  498450.0  498640.775\n",
       "2011-01-07  502020.0  498640.775\n",
       "2011-01-10  511485.0  498640.775\n",
       "2011-01-11  510270.0  498640.775\n",
       "2011-01-12  514425.0  498640.775\n",
       "2011-01-13  516300.0  498640.775\n",
       "2011-01-14  520485.0  498640.775\n",
       "2011-01-18  508785.0  498640.775\n",
       "2011-01-19  506085.0  498640.775\n",
       "2011-01-20       0.0  993036.375"
      ]
     },
     "execution_count": 177,
     "metadata": {},
     "output_type": "execute_result"
    }
   ],
   "source": [
    "valuesData"
   ]
  },
  {
   "cell_type": "code",
   "execution_count": 178,
   "metadata": {
    "collapsed": false,
    "scrolled": true
   },
   "outputs": [
    {
     "data": {
      "text/plain": [
       "2011-01-05     997495.775\n",
       "2011-01-06     997090.775\n",
       "2011-01-07    1000660.775\n",
       "2011-01-10    1010125.775\n",
       "2011-01-11    1008910.775\n",
       "2011-01-12    1013065.775\n",
       "2011-01-13    1014940.775\n",
       "2011-01-14    1019125.775\n",
       "2011-01-18    1007425.775\n",
       "2011-01-19    1004725.775\n",
       "2011-01-20     993036.375\n",
       "dtype: float64"
      ]
     },
     "execution_count": 178,
     "metadata": {},
     "output_type": "execute_result"
    }
   ],
   "source": [
    "valuesData.sum(axis=1)"
   ]
  },
  {
   "cell_type": "code",
   "execution_count": 186,
   "metadata": {
    "collapsed": false
   },
   "outputs": [],
   "source": [
    "dailyData = compute_portvals('testcases_mc2p1/orders-short.csv')"
   ]
  },
  {
   "cell_type": "code",
   "execution_count": 190,
   "metadata": {
    "collapsed": false
   },
   "outputs": [
    {
     "name": "stdout",
     "output_type": "stream",
     "text": [
      "-0.00447059537671\n"
     ]
    }
   ],
   "source": [
    "normed = DataHelper.normalize_data(dailyData)\n",
    "cum_ret = (normed[-1] / normed[0]) - 1\n",
    "print(cum_ret)"
   ]
  },
  {
   "cell_type": "code",
   "execution_count": 201,
   "metadata": {
    "collapsed": false
   },
   "outputs": [
    {
     "data": {
      "text/plain": [
       "{'cum_ret': -0.022405985430202779,\n",
       " 'daily_ret': 1.7295909533977115e-05,\n",
       " 'sharpe_ratio': 0.018338980744342818,\n",
       " 'std_ret': 0.01497160915216862}"
      ]
     },
     "execution_count": 201,
     "metadata": {},
     "output_type": "execute_result"
    }
   ],
   "source": [
    "DataHelper.assess_portfolio('2011-01-10', '2011-12-20', {'$SPX': 1.0})"
   ]
  },
  {
   "cell_type": "code",
   "execution_count": 263,
   "metadata": {
    "collapsed": false,
    "scrolled": true
   },
   "outputs": [
    {
     "data": {
      "text/plain": [
       "{'cum_ret': 1.9359983315635945,\n",
       " 'daily_ret': 0.013386312809569327,\n",
       " 'sharpe_ratio': 0.9859828737179556,\n",
       " 'std_ret': 0.21552212889472505}"
      ]
     },
     "execution_count": 263,
     "metadata": {},
     "output_type": "execute_result"
    }
   ],
   "source": [
    "dailyData = compute_portvals('testcases_mc2p1/orders-12.csv')\n",
    "assess_fund(dailyData)\n"
   ]
  },
  {
   "cell_type": "code",
   "execution_count": null,
   "metadata": {
    "collapsed": true
   },
   "outputs": [],
   "source": []
  }
 ],
 "metadata": {
  "kernelspec": {
   "display_name": "Python 3",
   "language": "python",
   "name": "python3"
  },
  "language_info": {
   "codemirror_mode": {
    "name": "ipython",
    "version": 3
   },
   "file_extension": ".py",
   "mimetype": "text/x-python",
   "name": "python",
   "nbconvert_exporter": "python",
   "pygments_lexer": "ipython3",
   "version": "3.4.5"
  }
 },
 "nbformat": 4,
 "nbformat_minor": 2
}
