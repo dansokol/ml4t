{
 "cells": [
  {
   "cell_type": "markdown",
   "metadata": {},
   "source": [
    "# 02-08 Efficient Markets Hypothesis"
   ]
  },
  {
   "cell_type": "markdown",
   "metadata": {},
   "source": [
    "### Efficient Market Hypothesis (EMH) assumptions\n",
    "\n",
    "- Large number of investors\n",
    "- New information arrives randomly\n",
    "- Prices adjust quickly\n",
    "- Prices reflect all available information\n",
    "\n",
    "### Origin of information\n",
    "\n",
    "- Price/volume (public, rapid, quick, everyone can see it)\n",
    "- Fundamental (reported quarterly, everyone can see it, public)\n",
    "- Exogenous: information about the world that affects company (e.g. price of oil affecting airline stock)\n",
    "- Company insiders (may or may not be legal, acting on information inside company not yet public)\n",
    "\n",
    "### 3 forms of the EMH\n",
    "\n",
    "- Weak: future prices cannot be predicted by analyzing historical prices (leaves room for fundamental exploit)\n",
    "- Semi-strong: Prices adjust rapidly to new public information (can only make money based on insider information)\n",
    "- Strong: Prices reflect all information public and private (can't exploit market)\n",
    "\n",
    "### Is the EMH correct?\n",
    "\n",
    "- Strong: no, insiders make money, some of it illegal\n",
    "- Semi-strong: There is evidence that EMH is incorrect, P/E (10-year) ratio vs 20-year annualized returns show trends"
   ]
  },
  {
   "cell_type": "code",
   "execution_count": null,
   "metadata": {
    "collapsed": true
   },
   "outputs": [],
   "source": []
  }
 ],
 "metadata": {
  "kernelspec": {
   "display_name": "Python 3",
   "language": "python",
   "name": "python3"
  },
  "language_info": {
   "codemirror_mode": {
    "name": "ipython",
    "version": 3
   },
   "file_extension": ".py",
   "mimetype": "text/x-python",
   "name": "python",
   "nbconvert_exporter": "python",
   "pygments_lexer": "ipython3",
   "version": "3.4.5"
  }
 },
 "nbformat": 4,
 "nbformat_minor": 2
}
