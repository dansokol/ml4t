{
 "cells": [
  {
   "cell_type": "markdown",
   "metadata": {},
   "source": [
    "# 02-02 Market Mechanics\n",
    "\n",
    "#### What is an order?\n",
    "\n",
    "- Buy or Sell\n",
    "- Symbol\n",
    "- #shares\n",
    "- Limit or Market\n",
    "- Price\n",
    "\n",
    "Market makers are called specialists and are only entities who transact business on the floor of the exchange\n",
    "- NASDAQ does not have a floor/specialists, all orders are electronic\n",
    "\n",
    "#### The Order Book\n",
    "\n",
    "\n",
    "##### how orders get to the exchange\n",
    "\n",
    "You -> Buy -> Broker -> looks up pirce at all exchanges (or internally), gets best price -> forwards back to you\n",
    "- dark pool (inter-broker liquidity pool) -> pays broker for this privileged information so they can fill order if they think it's a good idea\n",
    "- 80-90% of all trades don't make it to the exchange, filled at broker or dark pool\n",
    "\n",
    "#### how hedge funds exploit market mechanics\n",
    "\n",
    "A. Order book exploit\n",
    "    1. HF observes order book, thinks price goes up\n",
    "    2. HF buys stock\n",
    "    3. You click buy accross country (think same thing but your 12 ms late)\n",
    "    4. Meanwhile price goes up\n",
    "    5. HF sells you stock after holding it for a few milliseconds (it saw price go up first)\n",
    "B. Geographic arbitrage exploit\n",
    "    1. NYSE and London, high speed internet connection between the two\n",
    "    2. notice discrepency in NYSE/London, buy cheaper in NYSE, sell more expensive London\n",
    "    3. these discrepencies are rare because lots of hedge funds trying to do this\n",
    "\n",
    "\n",
    "#### Additional Order Types\n",
    "\n",
    "Exchanges\n",
    "- Buy Sell\n",
    "- Market Limit\n",
    "\n",
    "Broker\n",
    "- Stop loss (when drops to certain price sell it)\n",
    "- Stop gain (when reaches certain higher price, sell it)\n",
    "- Trailing stop (similar to stop loss, but increases with stock price, so if stock goes up 10, stop loss goes up 10, doesn't move if stock goes down)\n",
    "- selling short: taking negative position on stock\n",
    "  \n",
    "    \n",
    "   \n"
   ]
  },
  {
   "cell_type": "code",
   "execution_count": null,
   "metadata": {
    "collapsed": true
   },
   "outputs": [],
   "source": []
  }
 ],
 "metadata": {
  "kernelspec": {
   "display_name": "Python 3",
   "language": "python",
   "name": "python3"
  },
  "language_info": {
   "codemirror_mode": {
    "name": "ipython",
    "version": 3
   },
   "file_extension": ".py",
   "mimetype": "text/x-python",
   "name": "python",
   "nbconvert_exporter": "python",
   "pygments_lexer": "ipython3",
   "version": "3.4.5"
  }
 },
 "nbformat": 4,
 "nbformat_minor": 2
}
