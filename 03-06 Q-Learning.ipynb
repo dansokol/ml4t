{
 "cells": [
  {
   "cell_type": "markdown",
   "metadata": {},
   "source": [
    "# 03-06 Q-Learning"
   ]
  },
  {
   "cell_type": "markdown",
   "metadata": {},
   "source": [
    "- Model-free approach: does not know about or use models of transitions T or the rewards R\n",
    "- Builds a table of utility values as the agent interacts with world; These Q-values are used later to select best option\n",
    "- Guaranteed to provide an optimal policy*"
   ]
  },
  {
   "cell_type": "markdown",
   "metadata": {},
   "source": [
    "### What is Q?\n",
    "\n",
    "Q[s,a] = immediate reward + discounted reward\n",
    "\n",
    "- s is the state we are looking at\n",
    "- a is the action that we might take\n",
    "- Q represents the value of taking the action in state s (immediate + discounted reward)\n",
    "- discounted reward = reward you get for future actions\n",
    "\n",
    "Q is kind of like a lookup table, we have all these actions that we can take at state s, we loop through each possible action and determine which one provides the maximum reward and select that action (policy pi)\n",
    "\n"
   ]
  },
  {
   "cell_type": "markdown",
   "metadata": {},
   "source": [
    "### How do we build the Q table?\n",
    "\n",
    "- select training data\n",
    "- iterate over time <s,a,s',r>\n",
    "- test policy pi\n",
    "- repeat until converge\n",
    "\n",
    "Details:\n",
    "- set start time, init Q[]\n",
    "- compute s\n",
    "- select a (random)\n",
    "- observer r, s'\n",
    "- update Q"
   ]
  },
  {
   "cell_type": "code",
   "execution_count": null,
   "metadata": {
    "collapsed": true
   },
   "outputs": [],
   "source": []
  }
 ],
 "metadata": {
  "kernelspec": {
   "display_name": "Python 3",
   "language": "python",
   "name": "python3"
  },
  "language_info": {
   "codemirror_mode": {
    "name": "ipython",
    "version": 3
   },
   "file_extension": ".py",
   "mimetype": "text/x-python",
   "name": "python",
   "nbconvert_exporter": "python",
   "pygments_lexer": "ipython3",
   "version": "3.4.5"
  }
 },
 "nbformat": 4,
 "nbformat_minor": 2
}
