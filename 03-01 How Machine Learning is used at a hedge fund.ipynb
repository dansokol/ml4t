{
 "cells": [
  {
   "cell_type": "markdown",
   "metadata": {},
   "source": [
    "## How machine Learning is used at a hedge fund\n",
    "\n",
    "### The ML problem\n",
    "\n",
    "#### in most cases ML is focused on building a model (takes in observations, runs through process and outputs a value [prediction])\n",
    "##### x (observation) -> model -> y (prediction)\n",
    "\n",
    "#### Black Schols model predicts option price\n",
    "\n",
    "### Supervised regression learning\n",
    "\n",
    "#### supervised -> provide example x,y\n",
    "#### regression -> numerical prediction\n",
    "#### learning -> train with data\n",
    "\n",
    "#### Linear regression (parametric)\n",
    "#### k nearest neighbor (KNN) (instance based)\n",
    "####  difference with parametric, we throw away data after getting function, knn we consult data\n",
    "#### decision trees\n",
    "#### decision forests\n",
    "\n",
    "#### Problems with regression\n",
    "\n",
    "- noisy and uncertain\n",
    "- challenging to estimate confidence\n",
    "- holding time, allocation\n",
    "\n",
    "\n"
   ]
  },
  {
   "cell_type": "code",
   "execution_count": null,
   "metadata": {
    "collapsed": true
   },
   "outputs": [],
   "source": []
  }
 ],
 "metadata": {
  "kernelspec": {
   "display_name": "Python 3",
   "language": "python",
   "name": "python3"
  },
  "language_info": {
   "codemirror_mode": {
    "name": "ipython",
    "version": 3
   },
   "file_extension": ".py",
   "mimetype": "text/x-python",
   "name": "python",
   "nbconvert_exporter": "python",
   "pygments_lexer": "ipython3",
   "version": "3.4.5"
  }
 },
 "nbformat": 4,
 "nbformat_minor": 2
}
