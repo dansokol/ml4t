{
 "cells": [
  {
   "cell_type": "markdown",
   "metadata": {},
   "source": [
    "# 02-05 How hedge funds use the CAPM\n",
    "\n",
    "#### Two stock scenario\n",
    "\n",
    "- Stock A: predict +1% over mkt, Beta = 1.0 -> long\n",
    "- Stock B: predict -1% below mkt, Beta 2.0 -> short\n",
    "\n",
    "Hedge the stocks to minimize risk, we would allocate .66 of portfolio in A, and .-33 (short) in B, this would result in only Alpha\n",
    "\n",
    "Way to use long/short to reduce market exposure"
   ]
  },
  {
   "cell_type": "code",
   "execution_count": null,
   "metadata": {
    "collapsed": true
   },
   "outputs": [],
   "source": []
  }
 ],
 "metadata": {
  "kernelspec": {
   "display_name": "Python 3",
   "language": "python",
   "name": "python3"
  },
  "language_info": {
   "codemirror_mode": {
    "name": "ipython",
    "version": 3
   },
   "file_extension": ".py",
   "mimetype": "text/x-python",
   "name": "python",
   "nbconvert_exporter": "python",
   "pygments_lexer": "ipython3",
   "version": "3.4.5"
  }
 },
 "nbformat": 4,
 "nbformat_minor": 2
}
